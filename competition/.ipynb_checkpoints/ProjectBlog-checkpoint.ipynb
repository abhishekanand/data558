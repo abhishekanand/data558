{
 "cells": [
  {
   "cell_type": "code",
   "execution_count": 22,
   "metadata": {
    "collapsed": false
   },
   "outputs": [],
   "source": [
    "import os\n",
    "import re\n",
    "import sys\n",
    "#import tensorflow as tf\n",
    "#import tensorflow.python.platform\n",
    "#from tensorflow.python.platform import gfile\n",
    "import numpy as np\n",
    "import pandas as pd\n",
    "import sklearn\n",
    "from sklearn import cross_validation\n",
    "from sklearn.metrics import accuracy_score, confusion_matrix\n",
    "from sklearn.svm import SVC, LinearSVC\n",
    "import matplotlib.pyplot as plt\n",
    "%matplotlib inline\n",
    "import pickle"
   ]
  },
  {
   "cell_type": "code",
   "execution_count": 23,
   "metadata": {
    "collapsed": false
   },
   "outputs": [],
   "source": [
    "features = pd.read_csv('train_features/train_features.csv')\n",
    "labels = pd.read_csv('train_features/train_labels.csv')"
   ]
  },
  {
   "cell_type": "code",
   "execution_count": 24,
   "metadata": {
    "collapsed": false
   },
   "outputs": [],
   "source": [
    "features = np.asarray(features.iloc[:,1:])\n",
    "labels=np.asarray(labels.iloc[:,0])"
   ]
  },
  {
   "cell_type": "code",
   "execution_count": null,
   "metadata": {
    "collapsed": false
   },
   "outputs": [],
   "source": [
    "#features.head()"
   ]
  },
  {
   "cell_type": "code",
   "execution_count": null,
   "metadata": {
    "collapsed": false
   },
   "outputs": [],
   "source": [
    "#labels.head()"
   ]
  },
  {
   "cell_type": "code",
   "execution_count": 25,
   "metadata": {
    "collapsed": true
   },
   "outputs": [],
   "source": [
    "X_train, X_test, y_train, y_test = cross_validation.train_test_split(features, labels, test_size=0.2, random_state=42)"
   ]
  },
  {
   "cell_type": "code",
   "execution_count": 13,
   "metadata": {
    "collapsed": false
   },
   "outputs": [
    {
     "data": {
      "text/plain": [
       "(3456, 2048)"
      ]
     },
     "execution_count": 13,
     "metadata": {},
     "output_type": "execute_result"
    }
   ],
   "source": [
    "X_train.shape"
   ]
  },
  {
   "cell_type": "code",
   "execution_count": 14,
   "metadata": {
    "collapsed": false
   },
   "outputs": [
    {
     "data": {
      "text/plain": [
       "(864, 2048)"
      ]
     },
     "execution_count": 14,
     "metadata": {},
     "output_type": "execute_result"
    }
   ],
   "source": [
    "X_test.shape"
   ]
  },
  {
   "cell_type": "code",
   "execution_count": 15,
   "metadata": {
    "collapsed": false
   },
   "outputs": [
    {
     "data": {
      "text/plain": [
       "(3456,)"
      ]
     },
     "execution_count": 15,
     "metadata": {},
     "output_type": "execute_result"
    }
   ],
   "source": [
    "y_train.shape"
   ]
  },
  {
   "cell_type": "code",
   "execution_count": 16,
   "metadata": {
    "collapsed": false
   },
   "outputs": [
    {
     "data": {
      "text/plain": [
       "(864,)"
      ]
     },
     "execution_count": 16,
     "metadata": {},
     "output_type": "execute_result"
    }
   ],
   "source": [
    "y_test.shape"
   ]
  },
  {
   "cell_type": "code",
   "execution_count": 26,
   "metadata": {
    "collapsed": false
   },
   "outputs": [],
   "source": [
    "clf = LinearSVC(C=1.0, loss='squared_hinge', penalty='l2',multi_class='ovr')\n",
    "clf.fit(X_train, y_train)\n",
    "y_pred = clf.predict(X_test)"
   ]
  },
  {
   "cell_type": "code",
   "execution_count": 27,
   "metadata": {
    "collapsed": true
   },
   "outputs": [],
   "source": [
    "def plot_confusion_matrix(y_true,y_pred):\n",
    "    cm_array = confusion_matrix(y_true,y_pred)\n",
    "    true_labels = np.unique(y_true)\n",
    "    pred_labels = np.unique(y_pred)\n",
    "    plt.imshow(cm_array[:-1,:-1], interpolation='nearest', cmap=plt.cm.Blues)\n",
    "    plt.title(\"Confusion matrix\", fontsize=16)\n",
    "    cbar = plt.colorbar(fraction=0.046, pad=0.04)\n",
    "    cbar.set_label('Number of images', rotation=270, labelpad=30, fontsize=12)\n",
    "    xtick_marks = np.arange(len(true_labels))\n",
    "    ytick_marks = np.arange(len(pred_labels))\n",
    "    plt.xticks(xtick_marks, true_labels, rotation=90)\n",
    "    plt.yticks(ytick_marks,pred_labels)\n",
    "    plt.tight_layout()\n",
    "    plt.ylabel('True label', fontsize=14)\n",
    "    plt.xlabel('Predicted label', fontsize=14)\n",
    "    fig_size = plt.rcParams[\"figure.figsize\"]\n",
    "    fig_size[0] = 12\n",
    "    fig_size[1] = 12\n",
    "    plt.rcParams[\"figure.figsize\"] = fig_size"
   ]
  },
  {
   "cell_type": "code",
   "execution_count": 28,
   "metadata": {
    "collapsed": false
   },
   "outputs": [
    {
     "name": "stdout",
     "output_type": "stream",
     "text": [
      "Accuracy: 0.0%\n"
     ]
    },
    {
     "data": {
      "image/png": "[encoded data removed]",
      "text/plain": [
       "<matplotlib.figure.Figure at 0x15881713320>"
      ]
     },
     "metadata": {},
     "output_type": "display_data"
    }
   ],
   "source": [
    "print(\"Accuracy: {0:0.1f}%\".format(accuracy_score(y_test,y_pred)*100))\n",
    "plot_confusion_matrix(y_test,y_pred)"
   ]
  },
  {
   "cell_type": "code",
   "execution_count": 8,
   "metadata": {
    "collapsed": false
   },
   "outputs": [
    {
     "data": {
      "text/plain": [
       "array([2435, 2874, 3185, 2583,  165, 2673, 3911, 3173, 2892, 2046, 1169,\n",
       "       2231, 2258, 3970,  728, 1556, 1914,  275, 4017, 1286, 3729, 3344,\n",
       "       1435,  761, 3518, 4232, 2806,  320, 3280, 3245, 1737, 3004, 3880,\n",
       "        883, 1590, 2462, 2818, 1632, 4264, 3313,   72, 1036, 3478, 1619,\n",
       "       3649, 1743, 1478, 3583,  716, 4102, 1359, 2928,  409, 2583,    5,\n",
       "        390, 4260, 1307, 1644, 1401,  624,  168, 3488,  452,  275, 1676,\n",
       "       2243, 1378, 3518, 2885, 3696, 2285, 1021, 3627, 2865, 3734, 3387,\n",
       "       1474, 2946, 1348, 3138, 3065, 1701, 4191,  469, 1969, 3284, 1425,\n",
       "       1786, 1133, 1901,   10, 2261, 2356,  171, 2739, 2169, 4128, 3448,\n",
       "       1030,  384,  817, 3400, 1118,  929, 3260,  106,  480, 3624, 1828,\n",
       "       3560, 4116, 2081, 4316,  221, 4212, 1590,  819,  153,  874, 3688,\n",
       "       3943, 2241, 2874, 3833, 3711,  610, 3474, 2786, 2720, 3241, 3603,\n",
       "       3108,  537, 3351, 1128, 4304,  292, 3139, 2064, 3112, 1855,  358,\n",
       "        678, 3130,  696, 1522, 3587, 3257,  821, 1578, 2146, 2402,  160,\n",
       "       3723,  573, 3431, 2098, 2353,  850, 2640, 2469,  458, 1016, 2868,\n",
       "       1470, 2169, 3309,  793, 2670,  590, 3762, 2192,  339, 2407, 1251,\n",
       "       2862, 2954, 1927, 3802,  806, 3737, 3802, 2173, 1876,  704, 4184,\n",
       "       4175, 3117,  223, 2186, 1927, 2248, 2123, 3934,  549, 1567,  176,\n",
       "       3465, 1825,  817, 1766, 1150, 4252, 2559,   18, 2272,  367, 1145,\n",
       "       2909, 3390,  580, 2089,  860, 3977, 1636, 1296, 2458, 4314, 2926,\n",
       "       3417,  550, 3607, 3087,  769,  182, 2166, 1443, 1546, 3044, 1209,\n",
       "       3399, 1134,  804, 3037, 1435, 1731, 3105,  434, 3291, 4179,  976,\n",
       "       1057, 3086,  176, 1300, 1923, 1896, 3560, 2564, 2960, 3577, 2431,\n",
       "        976,   71, 3166, 1824, 3241, 2405,  496,  420, 3819, 2226, 1275,\n",
       "       1485,  855,  730, 1811,  316, 1291, 3861,    0, 1976,  186,  278,\n",
       "        411, 2532, 3435, 2081, 2237, 2563,  328, 1148, 3055, 2140,  388,\n",
       "        337,  302, 2210, 3768, 4126, 2898, 1431, 4185, 1262, 2897,  526,\n",
       "       1152, 2878, 1043, 1100,  194, 3188, 2364, 1284, 4299, 3924, 3164,\n",
       "       2970, 1587, 1992,  417,  592, 2506, 1860, 2586, 1098,  342,  799,\n",
       "        904, 3151, 4058, 3127, 4007, 3271,  826,  840,   11, 2337, 1365,\n",
       "       3527, 3037, 1809, 4129, 2670, 1502, 3398,  390, 1537, 3740,  553,\n",
       "        745,  513,  662, 1908, 3712, 2111,  840, 2573,  472,   16, 1475,\n",
       "       2874, 2153,  692, 2136, 1445, 1960, 2363, 2111, 4170, 3955, 3853,\n",
       "       3948, 1778, 3881, 1737, 2637, 2669, 3280, 2995, 1682, 1602, 4116,\n",
       "        350,  165, 1176, 3760, 2604, 1592, 2477, 1899,  277, 1062, 1911,\n",
       "       4011, 3523, 3321, 2536, 1420, 2764, 1091, 1735, 3016, 1735,  613,\n",
       "       3911, 1234, 2573, 3287,  590, 3815, 3364, 2773, 3142, 3930, 1581,\n",
       "       2716, 1980, 2743, 3474, 2821, 1165, 1492,  411, 2688, 3846, 3638,\n",
       "       3479,  820, 2045, 2352,  801, 3768, 1822, 1425,  147, 4189,  482,\n",
       "        537, 3397,  583, 1731, 1179, 1522, 2930, 2227, 2472, 1031, 3912,\n",
       "         53, 1746, 1614,   91, 3913,  757, 3287,  619, 2402, 1000, 1617,\n",
       "       3046, 1811, 4005, 3283, 3228, 3959, 1893,  498, 2306,  155, 1622,\n",
       "       3857, 3002, 2590, 1209,  766, 1956,  550,   54,  571, 2499, 2472,\n",
       "        636,  622, 2356, 3501,   91, 3989, 4079, 3216, 3016, 3216, 1230,\n",
       "        407, 2994, 2501, 2322, 1139, 2265,  286, 3976, 2395,  704,  924,\n",
       "       1882, 2745,   25, 1408, 1403, 3761, 4185, 2385, 3147,  801, 2571,\n",
       "        480, 3870, 3272, 3398, 2860, 3413, 3575, 1376, 2799, 3418,  717,\n",
       "       3976,  926, 2479,  851, 2443, 2858, 2587, 1329,  520, 1394, 3190,\n",
       "       2050, 2431, 3686, 3915, 2186, 2750,  644, 1860, 2839,   55, 2131,\n",
       "       3330, 1069, 2353,  615, 1899, 2786, 3299, 3445, 3417,  232, 3414,\n",
       "       1846, 3718, 1816, 1663,  873, 1280, 3732, 3322, 2688, 2963, 1178,\n",
       "       2963, 1809,  609,  558, 3132,  709, 2670, 1010, 1046, 4070, 4004,\n",
       "       4068, 1348,  243,  317, 1129, 2516, 1202,  775, 2462, 4228, 1731,\n",
       "       1624, 2624, 3027, 2689, 3054, 1178, 2109, 1030, 2469, 2036, 2850,\n",
       "        672, 3260, 3172, 2407,  895, 1875, 3385, 4035, 1039, 1542,  369,\n",
       "       3769, 2047, 1127, 3861, 3854, 3248, 3625, 1890,  919, 1019, 2445,\n",
       "       1758, 4126, 3758, 1047, 1811,  271,  219, 1008, 1513,  226,  694,\n",
       "       1853, 3966, 2343, 1030,  737,  578,  342, 3822, 1640,  743,  587,\n",
       "       2951,  176,  504, 2586, 2815, 3930, 1863,  279, 3615, 4157, 4120,\n",
       "       2051, 3562, 1628, 3892, 4245, 1422, 1815,  950, 3793,  454, 1205,\n",
       "       3789, 3475, 3693, 1016, 4312, 1787,  970, 2606,  171, 3115, 1064,\n",
       "        350, 4212, 1537, 2145, 2550, 4157, 1621,  435, 1276, 2108, 1115,\n",
       "       2617, 3803, 2147, 2998,  510,  696, 2536,  428, 1151, 1196, 4102,\n",
       "        550, 1603, 2494,   27, 3927, 2520,  224, 2003, 2349, 2491, 3336,\n",
       "       3793, 2467, 3258,  817, 3853,  312, 4004, 2276, 1591, 2263, 1551,\n",
       "       1031, 2292, 1917,  522,  785,  127,  632, 1126, 2849, 1972,  331,\n",
       "       3560, 2072, 1472, 3323, 3579, 4230, 2883, 1428, 1179, 3457, 1120,\n",
       "       2173, 2622,  595, 1354, 3236, 2925,   16, 4045, 1431,  640, 3419,\n",
       "        131,  769,   25, 1548, 2821,  278, 2158, 4136,  628, 2532, 2655,\n",
       "       2448, 4042,  489, 3856, 1058,  791, 2241,  749, 2327, 2260, 1662,\n",
       "       3303, 4225,  666, 3263, 3206, 1037, 1485, 2703,  578, 3012,  870,\n",
       "       3961, 2334, 2356, 3092, 3183, 4080, 2837, 3187,    2, 3251,  310,\n",
       "       3528, 1656,  745, 2084, 1069,  793, 3523, 2092,  246, 1209, 3170,\n",
       "       1257, 1638, 2520, 2931, 3205,  701, 1183, 1663,  896, 2210, 3768,\n",
       "       1064, 3542, 1212, 2611, 3227,  346, 2446, 1409,  854, 1156, 1062,\n",
       "        450, 3574, 3227, 3845, 1431,  347, 1522, 1463, 1252, 1650,    1,\n",
       "        194,  852,  695, 4117, 1078,  100, 3470, 3278, 1791, 1093, 3889,\n",
       "       2503,  248, 2474, 3688,   81, 2142, 3031, 1313, 3663, 2272, 2507,\n",
       "       3828,  235, 2400, 4317, 3216, 2791], dtype=int64)"
      ]
     },
     "execution_count": 8,
     "metadata": {},
     "output_type": "execute_result"
    }
   ],
   "source": [
    "y_pred"
   ]
  }
 ],
 "metadata": {
  "kernelspec": {
   "display_name": "Python 3",
   "language": "python",
   "name": "python3"
  },
  "language_info": {
   "codemirror_mode": {
    "name": "ipython",
    "version": 3
   },
   "file_extension": ".py",
   "mimetype": "text/x-python",
   "name": "python",
   "nbconvert_exporter": "python",
   "pygments_lexer": "ipython3",
   "version": "3.6.0"
  }
 },
 "nbformat": 4,
 "nbformat_minor": 2
}
